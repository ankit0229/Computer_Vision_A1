{
 "cells": [
  {
   "cell_type": "code",
   "execution_count": 1,
   "metadata": {},
   "outputs": [],
   "source": [
    "import cv2\n",
    "import random\n",
    "import numpy as np\n",
    "import math\n",
    "import statistics\n",
    "from PIL import Image\n",
    "import matplotlib.pyplot as plt\n",
    "from collections import Counter\n",
    "from scipy.spatial import distance"
   ]
  },
  {
   "cell_type": "code",
   "execution_count": 2,
   "metadata": {},
   "outputs": [],
   "source": [
    "new_img = np.zeros([300, 500, 3], dtype= np.uint8)"
   ]
  },
  {
   "cell_type": "code",
   "execution_count": 3,
   "metadata": {},
   "outputs": [],
   "source": [
    "new_img[0:100,:,0] = 255\n",
    "new_img[0:100,:,1] = 165\n",
    "new_img[100:200,:,:] = 255\n",
    "new_img[200:300,:,1] = 255\n",
    "x_centre = 249\n",
    "y_centre = 149\n",
    "list_b_circle = []\n",
    "list_a_circle = []\n",
    "new_img[y_centre,x_centre,:] = [0,0,255]\n",
    "for a in range(180, 330):\n",
    "    for b in range(99,201):\n",
    "        dist_floor = int(math.sqrt(((a-x_centre) ** 2) + ((b-y_centre) ** 2)))\n",
    "        dist_ceil = int(math.ceil(math.sqrt(((a-x_centre) ** 2) + ((b-y_centre) ** 2))))\n",
    "        if dist_floor == 50 or dist_ceil == 50:\n",
    "            list_b_circle.append(b)\n",
    "            list_a_circle.append(a)\n",
    "            new_img[b,a,:] = [0,0,255]\n",
    "\n",
    "#Drawing the horizontal and vertical lines\n",
    "new_img[149, 200:300, :] = [0,0,255]\n",
    "new_img[99:200,249,:] = [0,0,255]\n",
    "\n",
    "#Drawing 2 lines in each of 8 parts\n",
    "list_angle_radians = []\n",
    "rad_angle = math.pi/12\n",
    "\n",
    "#Preparing a list of 16 lines in radians\n",
    "line_drawn = 0\n",
    "for c in range(19):\n",
    "    if line_drawn == 5 or line_drawn == 10 or line_drawn == 15:\n",
    "        rad_angle = rad_angle + math.pi/12\n",
    "    list_angle_radians.append(rad_angle)\n",
    "    rad_angle = rad_angle + math.pi/12\n",
    "    line_drawn += 1\n",
    "\n",
    "for a in range(180, 330):\n",
    "    for b in range(99,201):\n",
    "        dist_x = abs(a-x_centre)\n",
    "        dist_y = abs(b-y_centre)\n",
    "        total_dist = int(math.sqrt(((a-x_centre) ** 2) + ((b-y_centre) ** 2)))\n",
    "        for d in list_angle_radians:\n",
    "            if total_dist <=50 and (dist_y == math.floor(dist_x * (math.tan(d))) or dist_y == math.ceil(dist_x * (math.tan(d)))):\n",
    "                new_img[b,a,:] = [0,0,255]\n",
    "    \n",
    "img_flag = Image.fromarray(new_img)\n",
    "img_flag.save('flag_image.png')\n",
    "im = Image.open('flag_image.png')\n",
    "im.show()"
   ]
  },
  {
   "cell_type": "code",
   "execution_count": null,
   "metadata": {},
   "outputs": [],
   "source": []
  }
 ],
 "metadata": {
  "kernelspec": {
   "display_name": "Python 3",
   "language": "python",
   "name": "python3"
  },
  "language_info": {
   "codemirror_mode": {
    "name": "ipython",
    "version": 3
   },
   "file_extension": ".py",
   "mimetype": "text/x-python",
   "name": "python",
   "nbconvert_exporter": "python",
   "pygments_lexer": "ipython3",
   "version": "3.7.3"
  }
 },
 "nbformat": 4,
 "nbformat_minor": 2
}
