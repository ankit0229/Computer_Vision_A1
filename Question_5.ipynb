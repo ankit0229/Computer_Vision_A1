{
 "cells": [
  {
   "cell_type": "code",
   "execution_count": 12,
   "metadata": {},
   "outputs": [],
   "source": [
    "import cv2\n",
    "import random\n",
    "import numpy as np\n",
    "import math\n",
    "import statistics\n",
    "import matplotlib.pyplot as plt\n",
    "from collections import Counter\n",
    "from scipy.spatial import distance\n",
    "import warnings\n",
    "warnings.filterwarnings(\"ignore\", category=RuntimeWarning) \n",
    "warnings.filterwarnings(\"ignore\", category=UserWarning) "
   ]
  },
  {
   "cell_type": "code",
   "execution_count": 13,
   "metadata": {},
   "outputs": [],
   "source": [
    "#Reading the RGB scale image\n",
    "RGB_img = cv2.imread('Q5_RGB.jpg',)"
   ]
  },
  {
   "cell_type": "code",
   "execution_count": 14,
   "metadata": {},
   "outputs": [
    {
     "data": {
      "text/plain": [
       "[]"
      ]
     },
     "execution_count": 14,
     "metadata": {},
     "output_type": "execute_result"
    }
   ],
   "source": [
    "RGB_img = cv2.resize(RGB_img, (550, 700))\n",
    "from skimage.viewer import ImageViewer\n",
    "viewer = ImageViewer(RGB_img)\n",
    "viewer.show()"
   ]
  },
  {
   "cell_type": "code",
   "execution_count": 15,
   "metadata": {},
   "outputs": [],
   "source": [
    "pic_rows_count, pic_col_count = RGB_img.shape[0], RGB_img.shape[1]"
   ]
  },
  {
   "cell_type": "code",
   "execution_count": 16,
   "metadata": {},
   "outputs": [],
   "source": [
    "count_clusters = 3\n",
    "list_cluster_values = []\n",
    "for a in range(count_clusters):\n",
    "    c_r = random.randint(0, pic_rows_count-1)\n",
    "    c_c = random.randint(0, pic_col_count-1)\n",
    "    list_cluster_values.append([RGB_img[c_r][c_c][0], RGB_img[c_r][c_c][1], RGB_img[c_r][c_c][2]])"
   ]
  },
  {
   "cell_type": "code",
   "execution_count": 17,
   "metadata": {},
   "outputs": [
    {
     "name": "stdout",
     "output_type": "stream",
     "text": [
      "Maximum iteration done\n"
     ]
    }
   ],
   "source": [
    "import copy\n",
    "dict_clusters = {}\n",
    "for f in range(len(list_cluster_values)):\n",
    "    dict_clusters[f] = []\n",
    "\n",
    "count_iteration = 1\n",
    "while count_iteration <= 4:\n",
    "    count_iteration += 1\n",
    "    for f in range(len(list_cluster_values)):\n",
    "        dict_clusters[f] = []\n",
    "    for b in range (pic_rows_count):\n",
    "        for c in range(pic_col_count):\n",
    "            curr_pixel_value = [RGB_img[b][c][d] for d in range(3)]\n",
    "            list_distances = []\n",
    "            for e in range(len(list_cluster_values)):\n",
    "                curr_cluster = list_cluster_values[e]\n",
    "                eucl_dist = distance.euclidean(curr_pixel_value, curr_cluster)\n",
    "    #             eucl_dist = math.sqrt(sum([pow((x-y), 2) for x,y in zip(curr_pixel_value, curr_cluster)]))\n",
    "                list_distances.append(eucl_dist)\n",
    "\n",
    "            cluster_assigned = list_distances.index(min(list_distances))\n",
    "            dict_clusters[cluster_assigned].append([b,c])\n",
    "    \n",
    "    #Now finding the new cluster centres by finding mean of each channel\n",
    "    list_new_centres = []\n",
    "    for g in range(len(list_cluster_values)):\n",
    "        list_blue_clusterwise = [list_cluster_values[g][0]]\n",
    "        list_green_clusterwise = [list_cluster_values[g][1]]\n",
    "        list_red_clusterwise = [list_cluster_values[g][2]]\n",
    "        for h in dict_clusters[g]:\n",
    "            i = h[0]\n",
    "            j = h[1]\n",
    "            list_blue_clusterwise.append(RGB_img[i][j][0])\n",
    "            list_green_clusterwise.append(RGB_img[i][j][1])\n",
    "            list_red_clusterwise.append(RGB_img[i][j][2])\n",
    "        \n",
    "        mean_blue = statistics.mean(list_blue_clusterwise)\n",
    "        mean_green = statistics.mean(list_green_clusterwise)\n",
    "        mean_red = statistics.mean(list_red_clusterwise)\n",
    "        list_new_centres.append([mean_blue, mean_green, mean_red])\n",
    "    \n",
    "    #Now finding the difference betwwen old centre value and new values\n",
    "    list_difference_centres = []\n",
    "    for k in range(len(list_cluster_values)):\n",
    "        old_value = list_cluster_values[k]\n",
    "        new_value = list_new_centres[k]\n",
    "        value_difference = [abs(l-m) for l,m in zip(old_value, new_value)]\n",
    "        list_difference_centres.append(value_difference)\n",
    "    \n",
    "    var_flag = 0\n",
    "    for n in list_difference_centres:\n",
    "        if n[0] < 1 and n[1] < 1 and n[2] < 1:\n",
    "            continue\n",
    "        else:\n",
    "            var_flag = 1\n",
    "            break\n",
    "    \n",
    "    if var_flag == 0:\n",
    "        break\n",
    "    \n",
    "    else:\n",
    "        list_cluster_values = copy.deepcopy(list_new_centres)\n",
    "if var_flag == 0:\n",
    "    print(\"Difference less tha limit\")\n",
    "else:\n",
    "    print(\"Maximum iteration done\")\n"
   ]
  },
  {
   "cell_type": "code",
   "execution_count": 18,
   "metadata": {},
   "outputs": [],
   "source": [
    "import numpy as np\n",
    "new_img = np.empty([700, 550])\n",
    "for o in range(len(list_cluster_values)):\n",
    "    for p in dict_clusters[o]:\n",
    "        r, s = p[0], p[1]\n",
    "        new_img[r][s] = o\n"
   ]
  },
  {
   "cell_type": "code",
   "execution_count": 19,
   "metadata": {},
   "outputs": [
    {
     "data": {
      "text/plain": [
       "[]"
      ]
     },
     "execution_count": 19,
     "metadata": {},
     "output_type": "execute_result"
    }
   ],
   "source": [
    "from skimage.viewer import ImageViewer\n",
    "viewer = ImageViewer(new_img)\n",
    "viewer.show()"
   ]
  }
 ],
 "metadata": {
  "kernelspec": {
   "display_name": "Python 3",
   "language": "python",
   "name": "python3"
  },
  "language_info": {
   "codemirror_mode": {
    "name": "ipython",
    "version": 3
   },
   "file_extension": ".py",
   "mimetype": "text/x-python",
   "name": "python",
   "nbconvert_exporter": "python",
   "pygments_lexer": "ipython3",
   "version": "3.7.3"
  }
 },
 "nbformat": 4,
 "nbformat_minor": 2
}
