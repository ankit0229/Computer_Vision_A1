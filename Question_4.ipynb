{
 "cells": [
  {
   "cell_type": "code",
   "execution_count": 1,
   "metadata": {},
   "outputs": [],
   "source": [
    "import cv2\n",
    "import numpy as np\n",
    "from collections import Counter"
   ]
  },
  {
   "cell_type": "code",
   "execution_count": 2,
   "metadata": {},
   "outputs": [],
   "source": [
    "#Reading the gray scale image\n",
    "gray_img = cv2.imread('Q4_gray.jpeg', 2)"
   ]
  },
  {
   "cell_type": "code",
   "execution_count": 3,
   "metadata": {},
   "outputs": [],
   "source": [
    "gray_img = cv2.resize(gray_img, (900, 600))"
   ]
  },
  {
   "cell_type": "code",
   "execution_count": 4,
   "metadata": {},
   "outputs": [],
   "source": [
    "#Finding the counts of different intensity values\n",
    "list_intensity = []\n",
    "for i in range(gray_img.shape[0]):\n",
    "    for j in range(gray_img.shape[1]):\n",
    "        list_intensity.append(gray_img[i][j])\n",
    "\n",
    "count_pixels = len(list_intensity)"
   ]
  },
  {
   "cell_type": "code",
   "execution_count": 5,
   "metadata": {},
   "outputs": [],
   "source": [
    "dict_intensity = Counter(list_intensity)\n",
    "list_pairs = [[a, dict_intensity[a]] for a in dict_intensity]\n",
    "list_pairs.sort(key = lambda x:x[0])"
   ]
  },
  {
   "cell_type": "code",
   "execution_count": 6,
   "metadata": {},
   "outputs": [],
   "source": [
    "dict_within_variance = {}\n",
    "#Finding the within class variance for all possible values of threshold\n",
    "for k in range(len(list_pairs)):\n",
    "    #Finding variance of background\n",
    "    total_wb = 0\n",
    "    mean_b = 0\n",
    "    for m in range(k):\n",
    "        total_wb += list_pairs[m][1]\n",
    "        mean_b += (list_pairs[m][0] * list_pairs[m][1])\n",
    "        \n",
    "    sum_wb = total_wb / count_pixels\n",
    "    if total_wb == 0:\n",
    "        mean_b = 0\n",
    "    else:\n",
    "        mean_b = mean_b / total_wb\n",
    "    \n",
    "    variance_b = 0\n",
    "    for n in range(k):\n",
    "        variance_b = variance_b + (pow((list_pairs[n][0] - mean_b), 2) * list_pairs[n][1])\n",
    "    variance_b = variance_b / count_pixels\n",
    "    \n",
    "    #Now finding the values for foreground\n",
    "    total_wf = 0\n",
    "    mean_f = 0\n",
    "    for o in range(k, len(list_pairs)):\n",
    "        total_wf += list_pairs[o][1]\n",
    "        mean_f += (list_pairs[o][0] * list_pairs[o][1])\n",
    "    \n",
    "    sum_wf = total_wf / count_pixels\n",
    "    if total_wf == 0:\n",
    "        mean_f = 0\n",
    "    else:\n",
    "        mean_f = mean_f / total_wf\n",
    "    \n",
    "    variance_f = 0\n",
    "    for p in range(k, len(list_pairs)):\n",
    "        variance_f = variance_f + (pow((list_pairs[p][0] - mean_f), 2) * list_pairs[p][1])\n",
    "    variance_f = variance_f / count_pixels\n",
    "    \n",
    "    #Finding the within class variance and storing in dictionary\n",
    "    value_within_class = (sum_wb * variance_b) + (sum_wf * variance_f)\n",
    "    \n",
    "    dict_within_variance[list_pairs[k][0]] = value_within_class\n",
    "\n"
   ]
  },
  {
   "cell_type": "code",
   "execution_count": 7,
   "metadata": {},
   "outputs": [],
   "source": [
    "#Sorting the threshold values according to the within class variance values\n",
    "list_within_pairs = [[q, dict_within_variance[q]] for q in dict_within_variance]\n",
    "list_within_pairs.sort(key = lambda x:x[1])\n",
    "value_threshold = list_within_pairs[0][0]"
   ]
  },
  {
   "cell_type": "code",
   "execution_count": 8,
   "metadata": {},
   "outputs": [],
   "source": [
    "#Now making the pixels with value < threshold as background and others as foreground\n",
    "bin_img = np.zeros((600, 900))\n",
    "for q in range(gray_img.shape[0]):\n",
    "    for r in range(gray_img.shape[1]):\n",
    "        if gray_img[q][r] < value_threshold:\n",
    "            bin_img[q][r] = 0\n",
    "        else:\n",
    "            bin_img[q][r] = 255\n"
   ]
  },
  {
   "cell_type": "code",
   "execution_count": 9,
   "metadata": {},
   "outputs": [],
   "source": [
    "#Showing the converted binary image\n",
    "cv2.imshow('binary', bin_img)\n",
    "cv2.waitKey(0)\n",
    "cv2.destroyAllWindows()"
   ]
  },
  {
   "cell_type": "code",
   "execution_count": null,
   "metadata": {},
   "outputs": [],
   "source": []
  }
 ],
 "metadata": {
  "kernelspec": {
   "display_name": "Python 3",
   "language": "python",
   "name": "python3"
  },
  "language_info": {
   "codemirror_mode": {
    "name": "ipython",
    "version": 3
   },
   "file_extension": ".py",
   "mimetype": "text/x-python",
   "name": "python",
   "nbconvert_exporter": "python",
   "pygments_lexer": "ipython3",
   "version": "3.7.3"
  }
 },
 "nbformat": 4,
 "nbformat_minor": 2
}
